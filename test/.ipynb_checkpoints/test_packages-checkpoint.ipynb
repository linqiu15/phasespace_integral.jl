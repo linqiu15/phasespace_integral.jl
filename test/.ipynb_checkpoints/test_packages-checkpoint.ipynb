{
 "cells": [
  {
   "cell_type": "markdown",
   "metadata": {
    "jp-MarkdownHeadingCollapsed": true,
    "tags": []
   },
   "source": [
    "# Testing all kinds of packages"
   ]
  },
  {
   "cell_type": "code",
   "execution_count": 1,
   "metadata": {},
   "outputs": [],
   "source": [
    "using BenchmarkTools;\n",
    "import QuadGK,Cubature,HCubature,Cuba,NIntegration;"
   ]
  },
  {
   "cell_type": "markdown",
   "metadata": {},
   "source": [
    "*test function*\n",
    "\\begin{align}\n",
    "f(x)&=1/(1+x^2),\\ -1\\sim1\\\\\n",
    "g(x,y)&=1/(x^2+y^2+1),[-1,-1]\\sim[1,1]\\\n",
    "\\end{align}"
   ]
  },
  {
   "cell_type": "code",
   "execution_count": 12,
   "metadata": {},
   "outputs": [
    {
     "data": {
      "text/plain": [
       "g (generic function with 1 method)"
      ]
     },
     "execution_count": 12,
     "metadata": {},
     "output_type": "execute_result"
    }
   ],
   "source": [
    "f(x)=1/(1+x^2)\n",
    "g(x,y)=1/(x^2+y^2+1)"
   ]
  },
  {
   "cell_type": "code",
   "execution_count": 3,
   "metadata": {},
   "outputs": [
    {
     "data": {
      "text/plain": [
       "([0.013046735741414128, 0.06746831665550773, 0.16029521585048778, 0.2833023029353764, 0.42556283050918436, 0.5744371694908156, 0.7166976970646236, 0.8397047841495122, 0.9325316833444923, 0.9869532642585859], [0.033335672154344055, 0.07472567457529032, 0.10954318125799105, 0.13463335965499817, 0.14776211235737638, 0.14776211235737638, 0.13463335965499817, 0.10954318125799105, 0.07472567457529032, 0.033335672154344055])"
      ]
     },
     "execution_count": 3,
     "metadata": {},
     "output_type": "execute_result"
    }
   ],
   "source": [
    "xxx,www=QuadGK.gauss(10,0,1)"
   ]
  },
  {
   "cell_type": "code",
   "execution_count": 4,
   "metadata": {},
   "outputs": [
    {
     "data": {
      "text/plain": [
       "quadgauss"
      ]
     },
     "execution_count": 4,
     "metadata": {},
     "output_type": "execute_result"
    }
   ],
   "source": [
    "#https://github.com/fkguo/double_jpsi_fit\n",
    "\"\"\"\n",
    "    quadgauss(f, x::T, w::T) where {T<:Vector{Float64}}\n",
    "Integration of function `f` using the Gaussian quadratures `x` with weights `w`.\n",
    "`x` and `w` can be generated using, e.g., `gauss(N, a, b)` in the package `QuadGK`.\n",
    "Using `quadgk` directly from that package causes memory allocation.\n",
    "However, if the integration region `[a, b]` is fixed, this function does not lead to any allocation and thus is much faster.\n",
    "\"\"\"\n",
    "function quadgauss(f, x::T, w::T) where {T<:Vector{Float64}}\n",
    "    res = zero(f(x[1]))  # zero of the same type as f(x[1]), to avoid type instability\n",
    "    for i in eachindex(x)\n",
    "        res += f(x[i]) * w[i]\n",
    "    end\n",
    "    return res\n",
    "end"
   ]
  },
  {
   "cell_type": "markdown",
   "metadata": {
    "jp-MarkdownHeadingCollapsed": true,
    "tags": []
   },
   "source": [
    "## QuadGK"
   ]
  },
  {
   "cell_type": "code",
   "execution_count": 6,
   "metadata": {},
   "outputs": [
    {
     "name": "stdout",
     "output_type": "stream",
     "text": [
      "  1.040 μs (38 allocations: 1.06 KiB)\n"
     ]
    },
    {
     "data": {
      "text/plain": [
       "(1.5707963267948968, 1.3319780833853656e-9)"
      ]
     },
     "execution_count": 6,
     "metadata": {},
     "output_type": "execute_result"
    }
   ],
   "source": [
    "@btime QuadGK.quadgk(f,-1,1)"
   ]
  },
  {
   "cell_type": "code",
   "execution_count": 7,
   "metadata": {},
   "outputs": [
    {
     "name": "stdout",
     "output_type": "stream",
     "text": [
      "  18.556 ns (0 allocations: 0 bytes)\n"
     ]
    },
    {
     "data": {
      "text/plain": [
       "1.5707962702232694"
      ]
     },
     "execution_count": 7,
     "metadata": {},
     "output_type": "execute_result"
    }
   ],
   "source": [
    "@btime quadgauss(x->2*f(-1+2*x),xxx,www)"
   ]
  },
  {
   "cell_type": "markdown",
   "metadata": {
    "jp-MarkdownHeadingCollapsed": true,
    "tags": []
   },
   "source": [
    "## Cubature"
   ]
  },
  {
   "cell_type": "code",
   "execution_count": 10,
   "metadata": {},
   "outputs": [
    {
     "name": "stdout",
     "output_type": "stream",
     "text": [
      "  4.014 μs (95 allocations: 3.08 KiB)\n"
     ]
    },
    {
     "data": {
      "text/plain": [
       "(1.5707963267948968, 2.577790876011016e-10)"
      ]
     },
     "execution_count": 10,
     "metadata": {},
     "output_type": "execute_result"
    }
   ],
   "source": [
    "@btime Cubature.hcubature(x -> f(x[1]), -1,1)"
   ]
  },
  {
   "cell_type": "code",
   "execution_count": 9,
   "metadata": {},
   "outputs": [
    {
     "name": "stdout",
     "output_type": "stream",
     "text": [
      "  2.711 μs (5 allocations: 272 bytes)\n"
     ]
    },
    {
     "data": {
      "text/plain": [
       "(1.5707963267948968, 2.577790876011016e-10)"
      ]
     },
     "execution_count": 9,
     "metadata": {},
     "output_type": "execute_result"
    }
   ],
   "source": [
    "@btime Cubature.hquadrature(x -> f(x), -1,1, abstol=1e-8)"
   ]
  },
  {
   "cell_type": "code",
   "execution_count": 13,
   "metadata": {},
   "outputs": [
    {
     "name": "stdout",
     "output_type": "stream",
     "text": [
      "  362.800 μs (9021 allocations: 282.19 KiB)\n"
     ]
    },
    {
     "data": {
      "text/plain": [
       "(2.5580414074916837, 2.537850661739338e-8)"
      ]
     },
     "execution_count": 13,
     "metadata": {},
     "output_type": "execute_result"
    }
   ],
   "source": [
    "@btime Cubature.hcubature(x -> g(x[1],x[2]), [-1,-1],[1,1])"
   ]
  },
  {
   "cell_type": "markdown",
   "metadata": {
    "jp-MarkdownHeadingCollapsed": true,
    "tags": []
   },
   "source": [
    "## HCubature"
   ]
  },
  {
   "cell_type": "code",
   "execution_count": 15,
   "metadata": {},
   "outputs": [
    {
     "name": "stdout",
     "output_type": "stream",
     "text": [
      "  5.500 μs (118 allocations: 3.95 KiB)\n"
     ]
    },
    {
     "data": {
      "text/plain": [
       "(1.5707963267948968, 1.3319778613407607e-9)"
      ]
     },
     "execution_count": 15,
     "metadata": {},
     "output_type": "execute_result"
    }
   ],
   "source": [
    "@btime HCubature.hcubature(x -> f(x[1]), [-1],[1])"
   ]
  },
  {
   "cell_type": "code",
   "execution_count": 16,
   "metadata": {},
   "outputs": [
    {
     "name": "stdout",
     "output_type": "stream",
     "text": [
      "  3.087 μs (95 allocations: 2.78 KiB)\n"
     ]
    },
    {
     "data": {
      "text/plain": [
       "(1.5707963267948968, 1.3319778613407607e-9)"
      ]
     },
     "execution_count": 16,
     "metadata": {},
     "output_type": "execute_result"
    }
   ],
   "source": [
    "@btime HCubature.hquadrature(x -> f(x), -1,1)"
   ]
  },
  {
   "cell_type": "code",
   "execution_count": 17,
   "metadata": {},
   "outputs": [
    {
     "name": "stdout",
     "output_type": "stream",
     "text": [
      "  282.800 μs (8858 allocations: 336.22 KiB)\n"
     ]
    },
    {
     "data": {
      "text/plain": [
       "(2.558041407498847, 3.720253297957721e-8)"
      ]
     },
     "execution_count": 17,
     "metadata": {},
     "output_type": "execute_result"
    }
   ],
   "source": [
    "@btime HCubature.hcubature(x -> g(x[1],x[2]), [-1,-1],[1,1])"
   ]
  },
  {
   "cell_type": "markdown",
   "metadata": {
    "jp-MarkdownHeadingCollapsed": true,
    "tags": []
   },
   "source": [
    "## Cuba"
   ]
  },
  {
   "cell_type": "code",
   "execution_count": 20,
   "metadata": {},
   "outputs": [
    {
     "name": "stdout",
     "output_type": "stream",
     "text": [
      "  1.149 ms (54003 allocations: 1.65 MiB)\n"
     ]
    },
    {
     "data": {
      "text/plain": [
       "Component:\n",
       " 1: 1.570796408663409 ± 0.00012284310770115995 (prob.: 1.878810110944422e-5)\n",
       "Integrand evaluations: 13500\n",
       "Number of subregions:  0\n",
       "Note: The desired accuracy was reached"
      ]
     },
     "execution_count": 20,
     "metadata": {},
     "output_type": "execute_result"
    }
   ],
   "source": [
    "@btime Cuba.vegas((x,func)->func[1]=2*f(-1+2*x[1]))"
   ]
  },
  {
   "cell_type": "code",
   "execution_count": 21,
   "metadata": {},
   "outputs": [
    {
     "name": "stdout",
     "output_type": "stream",
     "text": [
      "  21.246 ms (564003 allocations: 17.21 MiB)\n"
     ]
    },
    {
     "data": {
      "text/plain": [
       "Component:\n",
       " 1: 1.569433859121233 ± 0.00015603218372115996 (prob.: 1.0)\n",
       "Integrand evaluations: 141000\n",
       "Number of subregions:  141\n",
       "Note: The desired accuracy was reached"
      ]
     },
     "execution_count": 21,
     "metadata": {},
     "output_type": "execute_result"
    }
   ],
   "source": [
    "@btime Cuba.suave((x,func)->func[1]=2*f(-1+2*x[1]))"
   ]
  },
  {
   "cell_type": "code",
   "execution_count": 25,
   "metadata": {},
   "outputs": [
    {
     "name": "stdout",
     "output_type": "stream",
     "text": [
      "  614.200 μs (27768 allocations: 867.88 KiB)\n"
     ]
    },
    {
     "data": {
      "text/plain": [
       "Component:\n",
       " 1: 2.5580413776724837 ± 0.0002553418261106172 (prob.: 0.0)\n",
       "Integrand evaluations: 6941\n",
       "Number of subregions:  12\n",
       "Note: The desired accuracy was reached"
      ]
     },
     "execution_count": 25,
     "metadata": {},
     "output_type": "execute_result"
    }
   ],
   "source": [
    "@btime Cuba.divonne((x, func) -> func[1] = 4*g(-1+2*x[1],-1+2*x[2]))"
   ]
  },
  {
   "cell_type": "code",
   "execution_count": 28,
   "metadata": {},
   "outputs": [
    {
     "name": "stdout",
     "output_type": "stream",
     "text": [
      "  35.800 μs (1823 allocations: 57.06 KiB)\n"
     ]
    },
    {
     "data": {
      "text/plain": [
       "Component:\n",
       " 1: 2.55804140841443 ± 2.0783512425734786e-7 (prob.: 0.0)\n",
       "Integrand evaluations: 455\n",
       "Number of subregions:  4\n",
       "Note: The desired accuracy was reached"
      ]
     },
     "execution_count": 28,
     "metadata": {},
     "output_type": "execute_result"
    }
   ],
   "source": [
    "@btime Cuba.cuhre((x, func) -> func[1] = 4*g(-1+2*x[1],-1+2*x[2]))"
   ]
  },
  {
   "cell_type": "markdown",
   "metadata": {
    "jp-MarkdownHeadingCollapsed": true,
    "tags": []
   },
   "source": [
    "## NIntegrate"
   ]
  },
  {
   "cell_type": "code",
   "execution_count": 45,
   "metadata": {},
   "outputs": [
    {
     "name": "stdout",
     "output_type": "stream",
     "text": [
      "  23.300 μs (104 allocations: 5.25 KiB)\n"
     ]
    },
    {
     "data": {
      "text/plain": [
       "(1.5707963267891452, 1.0206085567947737e-8, 889, 4 subregions)"
      ]
     },
     "execution_count": 45,
     "metadata": {},
     "output_type": "execute_result"
    }
   ],
   "source": [
    "@btime NIntegration.nintegrate((x,y,z)->f(x)/4, (-1.0, -1.0, -1.0), ( 1.0,  1.0,  1.0))"
   ]
  },
  {
   "cell_type": "code",
   "execution_count": 44,
   "metadata": {},
   "outputs": [
    {
     "name": "stdout",
     "output_type": "stream",
     "text": [
      "  46.800 μs (200 allocations: 9.94 KiB)\n"
     ]
    },
    {
     "data": {
      "text/plain": [
       "(2.558041565193911, 1.8409728280207514e-6, 1651, 7 subregions)"
      ]
     },
     "execution_count": 44,
     "metadata": {},
     "output_type": "execute_result"
    }
   ],
   "source": [
    "@btime NIntegration.nintegrate((x,y,z)->g(x,y)/2, (-1.0, -1.0, -1.0), ( 1.0,  1.0,  1.0))"
   ]
  },
  {
   "cell_type": "markdown",
   "metadata": {
    "jp-MarkdownHeadingCollapsed": true,
    "tags": []
   },
   "source": [
    "## Five-dimensional integration\n",
    "$h(x_1,x_2,x_3,x_4,x_5)=1/(1+x_1+x_2^2+x_3^3+x_4^4+x_5^5)$"
   ]
  },
  {
   "cell_type": "code",
   "execution_count": 46,
   "metadata": {},
   "outputs": [
    {
     "data": {
      "text/plain": [
       "h (generic function with 1 method)"
      ]
     },
     "execution_count": 46,
     "metadata": {},
     "output_type": "execute_result"
    }
   ],
   "source": [
    "h(x1,x2,x3,x4,x5)=1/(1+x1+x2^2+x3^3+x4^4+x5^5)"
   ]
  },
  {
   "cell_type": "code",
   "execution_count": 47,
   "metadata": {},
   "outputs": [
    {
     "name": "stdout",
     "output_type": "stream",
     "text": [
      "  1.199 s (30973475 allocations: 590.77 MiB)\n"
     ]
    },
    {
     "data": {
      "text/plain": [
       "(0.43668593144029016, 4.3665600813462325e-9)"
      ]
     },
     "execution_count": 47,
     "metadata": {},
     "output_type": "execute_result"
    }
   ],
   "source": [
    "@btime Cubature.hcubature(x -> h(x...), [0,0,0,0,0],[1,1,1,1,1])"
   ]
  },
  {
   "cell_type": "code",
   "execution_count": 49,
   "metadata": {},
   "outputs": [
    {
     "name": "stdout",
     "output_type": "stream",
     "text": [
      "  218.262 ms (1114917 allocations: 62.20 MiB)\n"
     ]
    },
    {
     "data": {
      "text/plain": [
       "(0.43668593142642703, 6.506125207352761e-9)"
      ]
     },
     "execution_count": 49,
     "metadata": {},
     "output_type": "execute_result"
    }
   ],
   "source": [
    "@btime HCubature.hcubature(x -> h(x...), [0,0,0,0,0],[1,1,1,1,1])"
   ]
  },
  {
   "cell_type": "code",
   "execution_count": 51,
   "metadata": {},
   "outputs": [
    {
     "name": "stdout",
     "output_type": "stream",
     "text": [
      "  6.436 ms (201964 allocations: 4.31 MiB)\n"
     ]
    },
    {
     "data": {
      "text/plain": [
       "Component:\n",
       " 1: 0.4366851213912988 ± 4.3872164542258924e-5 (prob.: 1.7387005983970916e-5)\n",
       "Integrand evaluations: 20196\n",
       "Number of subregions:  14\n",
       "Note: The desired accuracy was reached"
      ]
     },
     "execution_count": 51,
     "metadata": {},
     "output_type": "execute_result"
    }
   ],
   "source": [
    "@btime Cuba.divonne((x, func) -> func[1] = h(x...),5)"
   ]
  },
  {
   "cell_type": "code",
   "execution_count": 52,
   "metadata": {},
   "outputs": [
    {
     "name": "stdout",
     "output_type": "stream",
     "text": [
      "  371.500 μs (13653 allocations: 298.78 KiB)\n"
     ]
    },
    {
     "data": {
      "text/plain": [
       "Component:\n",
       " 1: 0.4366876905864383 ± 2.786118260390128e-5 (prob.: 1.6017703284743057e-5)\n",
       "Integrand evaluations: 1365\n",
       "Number of subregions:  3\n",
       "Note: The desired accuracy was reached"
      ]
     },
     "execution_count": 52,
     "metadata": {},
     "output_type": "execute_result"
    }
   ],
   "source": [
    "@btime Cuba.cuhre((x, func) -> func[1] = h(x...),5)"
   ]
  },
  {
   "cell_type": "code",
   "execution_count": 54,
   "metadata": {},
   "outputs": [
    {
     "ename": "LoadError",
     "evalue": "MethodError: no method matching integral_type(::var\"#85#86\", ::NTuple{5, Float64})\n\u001b[0mClosest candidates are:\n\u001b[0m  integral_type(::Any, \u001b[91m::Tuple{T}\u001b[39m) where T at C:\\Users\\qiuli\\.julia\\packages\\NIntegration\\dMKmz\\src\\utils.jl:7\n\u001b[0m  integral_type(::Any, \u001b[91m::Tuple{T, T}\u001b[39m) where T at C:\\Users\\qiuli\\.julia\\packages\\NIntegration\\dMKmz\\src\\utils.jl:7\n\u001b[0m  integral_type(::Any, \u001b[91m::Tuple{T, T, T}\u001b[39m) where T at C:\\Users\\qiuli\\.julia\\packages\\NIntegration\\dMKmz\\src\\utils.jl:7\n\u001b[0m  ...",
     "output_type": "error",
     "traceback": [
      "MethodError: no method matching integral_type(::var\"#85#86\", ::NTuple{5, Float64})\n\u001b[0mClosest candidates are:\n\u001b[0m  integral_type(::Any, \u001b[91m::Tuple{T}\u001b[39m) where T at C:\\Users\\qiuli\\.julia\\packages\\NIntegration\\dMKmz\\src\\utils.jl:7\n\u001b[0m  integral_type(::Any, \u001b[91m::Tuple{T, T}\u001b[39m) where T at C:\\Users\\qiuli\\.julia\\packages\\NIntegration\\dMKmz\\src\\utils.jl:7\n\u001b[0m  integral_type(::Any, \u001b[91m::Tuple{T, T, T}\u001b[39m) where T at C:\\Users\\qiuli\\.julia\\packages\\NIntegration\\dMKmz\\src\\utils.jl:7\n\u001b[0m  ...",
      "",
      "Stacktrace:",
      "  [1] nintegrate(f::var\"#85#86\", xmin::NTuple{5, Int64}, xmax::NTuple{5, Float64}; reltol::Float64, abstol::Float64, maxevals::Int64)",
      "    @ NIntegration C:\\Users\\qiuli\\.julia\\packages\\NIntegration\\dMKmz\\src\\integration.jl:31",
      "  [2] nintegrate(f::var\"#85#86\", xmin::NTuple{5, Int64}, xmax::NTuple{5, Float64})",
      "    @ NIntegration C:\\Users\\qiuli\\.julia\\packages\\NIntegration\\dMKmz\\src\\integration.jl:27",
      "  [3] var\"##core#569\"()",
      "    @ Main C:\\Users\\qiuli\\.julia\\packages\\BenchmarkTools\\7xSXH\\src\\execution.jl:489",
      "  [4] var\"##sample#570\"(::Tuple{}, __params::BenchmarkTools.Parameters)",
      "    @ Main C:\\Users\\qiuli\\.julia\\packages\\BenchmarkTools\\7xSXH\\src\\execution.jl:495",
      "  [5] _run(b::BenchmarkTools.Benchmark, p::BenchmarkTools.Parameters; verbose::Bool, pad::String, kwargs::Base.Pairs{Symbol, Integer, NTuple{4, Symbol}, NamedTuple{(:samples, :evals, :gctrial, :gcsample), Tuple{Int64, Int64, Bool, Bool}}})",
      "    @ BenchmarkTools C:\\Users\\qiuli\\.julia\\packages\\BenchmarkTools\\7xSXH\\src\\execution.jl:99",
      "  [6] #invokelatest#2",
      "    @ .\\essentials.jl:718 [inlined]",
      "  [7] #run_result#45",
      "    @ C:\\Users\\qiuli\\.julia\\packages\\BenchmarkTools\\7xSXH\\src\\execution.jl:34 [inlined]",
      "  [8] run(b::BenchmarkTools.Benchmark, p::BenchmarkTools.Parameters; progressid::Nothing, nleaves::Float64, ndone::Float64, kwargs::Base.Pairs{Symbol, Integer, NTuple{5, Symbol}, NamedTuple{(:verbose, :samples, :evals, :gctrial, :gcsample), Tuple{Bool, Int64, Int64, Bool, Bool}}})",
      "    @ BenchmarkTools C:\\Users\\qiuli\\.julia\\packages\\BenchmarkTools\\7xSXH\\src\\execution.jl:117",
      "  [9] #warmup#54",
      "    @ C:\\Users\\qiuli\\.julia\\packages\\BenchmarkTools\\7xSXH\\src\\execution.jl:169 [inlined]",
      " [10] warmup(item::BenchmarkTools.Benchmark)",
      "    @ BenchmarkTools C:\\Users\\qiuli\\.julia\\packages\\BenchmarkTools\\7xSXH\\src\\execution.jl:169",
      " [11] top-level scope",
      "    @ C:\\Users\\qiuli\\.julia\\packages\\BenchmarkTools\\7xSXH\\src\\execution.jl:575",
      " [12] eval",
      "    @ .\\boot.jl:373 [inlined]",
      " [13] include_string(mapexpr::typeof(REPL.softscope), mod::Module, code::String, filename::String)",
      "    @ Base .\\loading.jl:1196"
     ]
    }
   ],
   "source": [
    "@btime NIntegration.nintegrate((x1,x2,x3,x4,x5)->h(x1,x2,x3,x4,x5), (0,0,0,0,0), ( 1.0,  1.0,  1.0,1.0,1.0))"
   ]
  },
  {
   "cell_type": "code",
   "execution_count": 55,
   "metadata": {},
   "outputs": [
    {
     "data": {
      "text/plain": [
       "Component:\n",
       " 1: 2.5580413776724837 ± 0.0002553418261106172 (prob.: 0.0)\n",
       "Integrand evaluations: 6941\n",
       "Number of subregions:  12\n",
       "Note: The desired accuracy was reached"
      ]
     },
     "execution_count": 55,
     "metadata": {},
     "output_type": "execute_result"
    }
   ],
   "source": [
    "test=Cuba.divonne((x, func) -> func[1] = 4*g(-1+2*x[1],-1+2*x[2]))"
   ]
  },
  {
   "cell_type": "code",
   "execution_count": 57,
   "metadata": {},
   "outputs": [
    {
     "data": {
      "text/plain": [
       "1-element Vector{Float64}:\n",
       " 0.0002553418261106172"
      ]
     },
     "execution_count": 57,
     "metadata": {},
     "output_type": "execute_result"
    }
   ],
   "source": [
    "test[2]"
   ]
  },
  {
   "cell_type": "markdown",
   "metadata": {},
   "source": [
    "# Testing Quadrature.jl"
   ]
  },
  {
   "cell_type": "code",
   "execution_count": null,
   "metadata": {},
   "outputs": [],
   "source": [
    "using Quad      "
   ]
  }
 ],
 "metadata": {
  "kernelspec": {
   "display_name": "Julia 1.7.2",
   "language": "julia",
   "name": "julia-1.7"
  },
  "language_info": {
   "file_extension": ".jl",
   "mimetype": "application/julia",
   "name": "julia",
   "version": "1.7.2"
  }
 },
 "nbformat": 4,
 "nbformat_minor": 4
}
