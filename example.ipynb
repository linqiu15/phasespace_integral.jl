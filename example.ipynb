{
 "cells": [
  {
   "cell_type": "markdown",
   "metadata": {},
   "source": [
    "# Introduction"
   ]
  },
  {
   "cell_type": "markdown",
   "metadata": {},
   "source": [
    "Evaluate the following phase space integral:\n",
    "\\begin{align}\n",
    "&\\int d\\Phi_n(P;p_1,...,p_n)|\\mathcal{M}|^2\\\\\n",
    "&=\\int \\frac{1}{(2\\pi)^{3n-4}}(\\prod_{i=1}^nd^4p_i\\delta(p_i^2-m_i^2))\\delta(P-\\sum_{i=1}^np_i)|\\mathcal{M}|^2\n",
    "\\end{align}"
   ]
  },
  {
   "cell_type": "markdown",
   "metadata": {},
   "source": [
    "Two steps:\n",
    "- declare the masses of the process:\n",
    "    ```julia\n",
    "    Proc([M1,M2,...],[m1,m2,m3,...])\n",
    "    ```\n",
    "- evalute the phase space integral with amplitude squred\n",
    "    ```julia\n",
    "    ps1n_xxx(ampsq::Function,proc::Proc:method=...)\n",
    "    ```\n",
    "    such as:*ps12*, *ps13_dalitz*, *ps13_kumar*, *ps14_kumar*, *ps15_kumar*, *ps23_byckling*, *ps24_byckling*\n",
    "    \n",
    "where $ampsq$ is the amplitude squared function with all its arguments defined by invariant(see notes in **misc** folder). In this example ,we set it to unit,i.e. we only evaluate the phase space volume."
   ]
  },
  {
   "cell_type": "markdown",
   "metadata": {},
   "source": [
    "Temporarily, some methods are supported and the bolded is recommended one for individual case.\n",
    "- $1\\rightarrow 3$: \"**quadgauss**\",\"ccubature\",\"**hcubature**\",\"vegas\",\"suave\",\"**cuhre**\",\"divonne\"\n",
    "- $1\\rightarrow 4$: \"vegas\",\"suave\",\"**cuhre**\"\n",
    "- $1\\rightarrow 5$: \"vegas\",\"suave\",\"**cuhre**\"(In such a process, the *ampsq* should have 9 arguments(another $s_{34}$ except the 8 invariants defined in the \n",
    "integral limits))\n",
    "- $2\\rightarrow 3$: \"vegas\",\"suave\",\"**cuhre**\"\n",
    "- $2\\rightarrow 4$: \"vegas\",\"suave\",\"**cuhre**\"(In such a process, the *ampsq* should have 9 arguments(another $s_{234}$ except the 7 invariants defined in the \n",
    "integral limits and the initial *s*))\n",
    "\n",
    "Note that the \"quadgauss\" refers to the gaussian quadrature approach, reset the points and weights by:\n",
    "\n",
    "    ```julia\n",
    "    setquadgauss(N::Int)\n",
    "    ```\n",
    "\n",
    "where $N$ is the approximation points number you want to use. (Usually, $\\sim 100$ would be enough and $10$ used in this example.)"
   ]
  },
  {
   "cell_type": "markdown",
   "metadata": {},
   "source": [
    "# Examples"
   ]
  },
  {
   "cell_type": "code",
   "execution_count": 1,
   "metadata": {},
   "outputs": [],
   "source": [
    "using BenchmarkTools;"
   ]
  },
  {
   "cell_type": "code",
   "execution_count": 2,
   "metadata": {},
   "outputs": [],
   "source": [
    "include(\"src/phasespace.jl\");\n",
    "using Main.PhaseSpaceIntegral;"
   ]
  },
  {
   "cell_type": "markdown",
   "metadata": {},
   "source": [
    "## $1→n$"
   ]
  },
  {
   "cell_type": "markdown",
   "metadata": {},
   "source": [
    "### $1→ 2$"
   ]
  },
  {
   "cell_type": "code",
   "execution_count": 3,
   "metadata": {},
   "outputs": [
    {
     "data": {
      "text/plain": [
       "Proc([1.86], [0.7, 1.0])"
      ]
     },
     "execution_count": 3,
     "metadata": {},
     "output_type": "execute_result"
    }
   ],
   "source": [
    "proc_12=Proc([1.86],[0.7,1.0])"
   ]
  },
  {
   "cell_type": "code",
   "execution_count": 4,
   "metadata": {},
   "outputs": [
    {
     "name": "stdout",
     "output_type": "stream",
     "text": [
      "  7.183 ns (0 allocations: 0 bytes)\n"
     ]
    },
    {
     "data": {
      "text/plain": [
       "0.015933398456345036"
      ]
     },
     "execution_count": 4,
     "metadata": {},
     "output_type": "execute_result"
    }
   ],
   "source": [
    "@btime PhaseSpaceIntegral.ps12((;)->1,proc_12)"
   ]
  },
  {
   "cell_type": "markdown",
   "metadata": {},
   "source": [
    "### $1→3$"
   ]
  },
  {
   "cell_type": "markdown",
   "metadata": {},
   "source": [
    "#### Dalitz's formula"
   ]
  },
  {
   "cell_type": "code",
   "execution_count": 5,
   "metadata": {},
   "outputs": [
    {
     "data": {
      "text/plain": [
       "Proc([10.0], [5.0, 3.0, 1.0])"
      ]
     },
     "execution_count": 5,
     "metadata": {},
     "output_type": "execute_result"
    }
   ],
   "source": [
    "proc_13=Proc([10.0],[5.0,3.0,1.0])"
   ]
  },
  {
   "cell_type": "code",
   "execution_count": 6,
   "metadata": {},
   "outputs": [
    {
     "name": "stdout",
     "output_type": "stream",
     "text": [
      "  1.311 μs (4 allocations: 64 bytes)\n"
     ]
    },
    {
     "data": {
      "text/plain": [
       "0.00022776092490505505"
      ]
     },
     "execution_count": 6,
     "metadata": {},
     "output_type": "execute_result"
    }
   ],
   "source": [
    "@btime PhaseSpaceIntegral.ps13_dalitz((x,y)->1,proc_13;method=\"quadgauss\")"
   ]
  },
  {
   "cell_type": "code",
   "execution_count": 7,
   "metadata": {},
   "outputs": [
    {
     "name": "stdout",
     "output_type": "stream",
     "text": [
      "  271.367 μs (9296 allocations: 242.44 KiB)\n"
     ]
    },
    {
     "data": {
      "text/plain": [
       "0.00022765646543587513"
      ]
     },
     "execution_count": 7,
     "metadata": {},
     "output_type": "execute_result"
    }
   ],
   "source": [
    "@btime PhaseSpaceIntegral.ps13_dalitz((x,y)->1,proc_13;method=\"ccubature\")"
   ]
  },
  {
   "cell_type": "code",
   "execution_count": 8,
   "metadata": {},
   "outputs": [
    {
     "name": "stdout",
     "output_type": "stream",
     "text": [
      "  116.790 μs (3040 allocations: 123.62 KiB)\n"
     ]
    },
    {
     "data": {
      "text/plain": [
       "0.00022765646543259366"
      ]
     },
     "execution_count": 8,
     "metadata": {},
     "output_type": "execute_result"
    }
   ],
   "source": [
    "@btime PhaseSpaceIntegral.ps13_dalitz((x,y)->1,proc_13;method=\"hcubature\")"
   ]
  },
  {
   "cell_type": "code",
   "execution_count": 9,
   "metadata": {},
   "outputs": [
    {
     "name": "stdout",
     "output_type": "stream",
     "text": [
      "  45.372 ms (1736006 allocations: 46.36 MiB)\n"
     ]
    },
    {
     "data": {
      "text/plain": [
       "1-element Vector{Float64}:\n",
       " 0.00022765887882339244"
      ]
     },
     "execution_count": 9,
     "metadata": {},
     "output_type": "execute_result"
    }
   ],
   "source": [
    "@btime PhaseSpaceIntegral.ps13_dalitz((x,y)->1,proc_13;method=\"vegas\")"
   ]
  },
  {
   "cell_type": "code",
   "execution_count": 10,
   "metadata": {},
   "outputs": [
    {
     "name": "stdout",
     "output_type": "stream",
     "text": [
      "  49.980 ms (784006 allocations: 20.94 MiB)\n"
     ]
    },
    {
     "data": {
      "text/plain": [
       "1-element Vector{Float64}:\n",
       " 0.00022760836327740967"
      ]
     },
     "execution_count": 10,
     "metadata": {},
     "output_type": "execute_result"
    }
   ],
   "source": [
    "@btime PhaseSpaceIntegral.ps13_dalitz((x,y)->1,proc_13;method=\"suave\")"
   ]
  },
  {
   "cell_type": "code",
   "execution_count": 11,
   "metadata": {},
   "outputs": [
    {
     "name": "stdout",
     "output_type": "stream",
     "text": [
      "  769.966 μs (32519 allocations: 889.38 KiB)\n"
     ]
    },
    {
     "data": {
      "text/plain": [
       "1-element Vector{Float64}:\n",
       " 0.0002276563750865345"
      ]
     },
     "execution_count": 11,
     "metadata": {},
     "output_type": "execute_result"
    }
   ],
   "source": [
    "@btime PhaseSpaceIntegral.ps13_dalitz((x,y)->1,proc_13;method=\"divonne\")"
   ]
  },
  {
   "cell_type": "code",
   "execution_count": 12,
   "metadata": {},
   "outputs": [
    {
     "name": "stdout",
     "output_type": "stream",
     "text": [
      "  255.689 μs (10926 allocations: 298.91 KiB)\n"
     ]
    },
    {
     "data": {
      "text/plain": [
       "1-element Vector{Float64}:\n",
       " 0.00022765594586347793"
      ]
     },
     "execution_count": 12,
     "metadata": {},
     "output_type": "execute_result"
    }
   ],
   "source": [
    "@btime PhaseSpaceIntegral.ps13_dalitz((x,y)->1,proc_13;method=\"cuhre\")"
   ]
  },
  {
   "cell_type": "markdown",
   "metadata": {},
   "source": [
    "*Consistent with Mathematica's*"
   ]
  },
  {
   "cell_type": "markdown",
   "metadata": {},
   "source": [
    "#### Kumar's formula"
   ]
  },
  {
   "cell_type": "code",
   "execution_count": 13,
   "metadata": {},
   "outputs": [
    {
     "data": {
      "text/plain": [
       "Proc([10.0], [5.0, 3.0, 1.0])"
      ]
     },
     "execution_count": 13,
     "metadata": {},
     "output_type": "execute_result"
    }
   ],
   "source": [
    "proc_13=Proc([10.0],[5.0,3.0,1.0])"
   ]
  },
  {
   "cell_type": "code",
   "execution_count": 14,
   "metadata": {},
   "outputs": [
    {
     "name": "stdout",
     "output_type": "stream",
     "text": [
      "  1.403 μs (4 allocations: 64 bytes)\n"
     ]
    },
    {
     "data": {
      "text/plain": [
       "0.00022776125784883353"
      ]
     },
     "execution_count": 14,
     "metadata": {},
     "output_type": "execute_result"
    }
   ],
   "source": [
    "@btime PhaseSpaceIntegral.ps13_kumar((x,y)->1,proc_13;method=\"quadgauss\")"
   ]
  },
  {
   "cell_type": "code",
   "execution_count": 15,
   "metadata": {},
   "outputs": [
    {
     "name": "stdout",
     "output_type": "stream",
     "text": [
      "  276.411 μs (9296 allocations: 242.44 KiB)\n"
     ]
    },
    {
     "data": {
      "text/plain": [
       "0.00022765646543592953"
      ]
     },
     "execution_count": 15,
     "metadata": {},
     "output_type": "execute_result"
    }
   ],
   "source": [
    "@btime PhaseSpaceIntegral.ps13_kumar((x,y)->1,proc_13;method=\"ccubature\")"
   ]
  },
  {
   "cell_type": "code",
   "execution_count": 16,
   "metadata": {},
   "outputs": [
    {
     "name": "stdout",
     "output_type": "stream",
     "text": [
      "  114.220 μs (3040 allocations: 123.62 KiB)\n"
     ]
    },
    {
     "data": {
      "text/plain": [
       "0.00022765646543260515"
      ]
     },
     "execution_count": 16,
     "metadata": {},
     "output_type": "execute_result"
    }
   ],
   "source": [
    "@btime PhaseSpaceIntegral.ps13_kumar((x,y)->1,proc_13;method=\"hcubature\")"
   ]
  },
  {
   "cell_type": "code",
   "execution_count": 17,
   "metadata": {},
   "outputs": [
    {
     "name": "stdout",
     "output_type": "stream",
     "text": [
      "  45.897 ms (1736006 allocations: 46.36 MiB)\n"
     ]
    },
    {
     "data": {
      "text/plain": [
       "1-element Vector{Float64}:\n",
       " 0.000227658900913792"
      ]
     },
     "execution_count": 17,
     "metadata": {},
     "output_type": "execute_result"
    }
   ],
   "source": [
    "@btime PhaseSpaceIntegral.ps13_kumar((x,y)->1,proc_13;method=\"vegas\")"
   ]
  },
  {
   "cell_type": "code",
   "execution_count": 18,
   "metadata": {},
   "outputs": [
    {
     "name": "stdout",
     "output_type": "stream",
     "text": [
      "  66.051 ms (1104006 allocations: 29.48 MiB)\n"
     ]
    },
    {
     "data": {
      "text/plain": [
       "1-element Vector{Float64}:\n",
       " 0.00022759025165025655"
      ]
     },
     "execution_count": 18,
     "metadata": {},
     "output_type": "execute_result"
    }
   ],
   "source": [
    "@btime PhaseSpaceIntegral.ps13_kumar((x,y)->1,proc_13;method=\"suave\")"
   ]
  },
  {
   "cell_type": "code",
   "execution_count": 19,
   "metadata": {},
   "outputs": [
    {
     "name": "stdout",
     "output_type": "stream",
     "text": [
      "  779.151 μs (32463 allocations: 887.84 KiB)\n"
     ]
    },
    {
     "data": {
      "text/plain": [
       "1-element Vector{Float64}:\n",
       " 0.00022765628044405295"
      ]
     },
     "execution_count": 19,
     "metadata": {},
     "output_type": "execute_result"
    }
   ],
   "source": [
    "@btime PhaseSpaceIntegral.ps13_kumar((x,y)->1,proc_13;method=\"divonne\")"
   ]
  },
  {
   "cell_type": "code",
   "execution_count": 20,
   "metadata": {},
   "outputs": [
    {
     "name": "stdout",
     "output_type": "stream",
     "text": [
      "  247.075 μs (10926 allocations: 298.91 KiB)\n"
     ]
    },
    {
     "data": {
      "text/plain": [
       "1-element Vector{Float64}:\n",
       " 0.00022765593596485266"
      ]
     },
     "execution_count": 20,
     "metadata": {},
     "output_type": "execute_result"
    }
   ],
   "source": [
    "@btime PhaseSpaceIntegral.ps13_kumar((x,y)->1,proc_13;method=\"cuhre\")"
   ]
  },
  {
   "cell_type": "markdown",
   "metadata": {},
   "source": [
    "### $1→ 4$(Kumar's formula)"
   ]
  },
  {
   "cell_type": "code",
   "execution_count": 21,
   "metadata": {},
   "outputs": [
    {
     "data": {
      "text/plain": [
       "Proc([50.0], [10.0, 5.0, 2.0, 1.0])"
      ]
     },
     "execution_count": 21,
     "metadata": {},
     "output_type": "execute_result"
    }
   ],
   "source": [
    "proc_14=Proc([50.0],[10.0,5.0,2.0,1.0])"
   ]
  },
  {
   "cell_type": "code",
   "execution_count": 22,
   "metadata": {},
   "outputs": [
    {
     "name": "stdout",
     "output_type": "stream",
     "text": [
      "  236.773 ms (4030009 allocations: 122.99 MiB)\n"
     ]
    },
    {
     "data": {
      "text/plain": [
       "1-element Vector{Float64}:\n",
       " 0.31250900458567554"
      ]
     },
     "execution_count": 22,
     "metadata": {},
     "output_type": "execute_result"
    }
   ],
   "source": [
    "@btime PhaseSpaceIntegral.ps14_kumar((x1,x2,x3,x4,x5)->1,proc_14;method=\"vegas\")"
   ]
  },
  {
   "cell_type": "code",
   "execution_count": 23,
   "metadata": {},
   "outputs": [
    {
     "name": "stdout",
     "output_type": "stream",
     "text": [
      "  616.000 ms (4000009 allocations: 122.07 MiB)\n"
     ]
    },
    {
     "data": {
      "text/plain": [
       "1-element Vector{Float64}:\n",
       " 0.3108947177308834"
      ]
     },
     "execution_count": 23,
     "metadata": {},
     "output_type": "execute_result"
    }
   ],
   "source": [
    "@btime PhaseSpaceIntegral.ps14_kumar((x1,x2,x3,x4,x5)->1,proc_14;method=\"suave\")"
   ]
  },
  {
   "cell_type": "code",
   "execution_count": 24,
   "metadata": {},
   "outputs": [
    {
     "name": "stdout",
     "output_type": "stream",
     "text": [
      "  124.525 ms (2333613 allocations: 71.22 MiB)\n"
     ]
    },
    {
     "data": {
      "text/plain": [
       "1-element Vector{Float64}:\n",
       " 0.31259745888403595"
      ]
     },
     "execution_count": 24,
     "metadata": {},
     "output_type": "execute_result"
    }
   ],
   "source": [
    "@btime PhaseSpaceIntegral.ps14_kumar((x1,x2,x3,x4,x5)->1,proc_14;method=\"cuhre\")"
   ]
  },
  {
   "cell_type": "markdown",
   "metadata": {},
   "source": [
    "*Consitent with Mathematica's but faster*"
   ]
  },
  {
   "cell_type": "markdown",
   "metadata": {},
   "source": [
    "### $1→ 5$(Kumar's formula)"
   ]
  },
  {
   "cell_type": "code",
   "execution_count": 25,
   "metadata": {},
   "outputs": [
    {
     "data": {
      "text/plain": [
       "Proc([100.0], [20.0, 10.0, 5.0, 2.0, 1.0])"
      ]
     },
     "execution_count": 25,
     "metadata": {},
     "output_type": "execute_result"
    }
   ],
   "source": [
    "proc_15=Proc([100.0],[20.0,10.0,5.0,2.0,1.0])"
   ]
  },
  {
   "cell_type": "code",
   "execution_count": 26,
   "metadata": {},
   "outputs": [
    {
     "name": "stdout",
     "output_type": "stream",
     "text": [
      "  347.749 ms (4000109 allocations: 122.07 MiB)\n"
     ]
    },
    {
     "data": {
      "text/plain": [
       "1-element Vector{Float64}:\n",
       " 13.573497763900855"
      ]
     },
     "execution_count": 26,
     "metadata": {},
     "output_type": "execute_result"
    }
   ],
   "source": [
    "@btime PhaseSpaceIntegral.ps15_kumar((x1,x2,x3,x4,x5,x6,x7,x8,x9)->1,proc_15;method=\"cuhre\")"
   ]
  },
  {
   "cell_type": "code",
   "execution_count": 27,
   "metadata": {},
   "outputs": [
    {
     "name": "stdout",
     "output_type": "stream",
     "text": [
      "  376.554 ms (4030009 allocations: 122.99 MiB)\n"
     ]
    },
    {
     "data": {
      "text/plain": [
       "1-element Vector{Float64}:\n",
       " 13.721783462984147"
      ]
     },
     "execution_count": 27,
     "metadata": {},
     "output_type": "execute_result"
    }
   ],
   "source": [
    "@btime PhaseSpaceIntegral.ps15_kumar((x1,x2,x3,x4,x5,x6,x7,x8,x9)->1,proc_15;method=\"vegas\")"
   ]
  },
  {
   "cell_type": "code",
   "execution_count": 28,
   "metadata": {},
   "outputs": [
    {
     "name": "stdout",
     "output_type": "stream",
     "text": [
      "  764.599 ms (4000009 allocations: 122.07 MiB)\n"
     ]
    },
    {
     "data": {
      "text/plain": [
       "1-element Vector{Float64}:\n",
       " 13.542979002646259"
      ]
     },
     "execution_count": 28,
     "metadata": {},
     "output_type": "execute_result"
    }
   ],
   "source": [
    "@btime PhaseSpaceIntegral.ps15_kumar((x1,x2,x3,x4,x5,x6,x7,x8,x9)->1,proc_15;method=\"suave\")"
   ]
  },
  {
   "cell_type": "markdown",
   "metadata": {},
   "source": [
    "## $2→n$"
   ]
  },
  {
   "cell_type": "markdown",
   "metadata": {},
   "source": [
    "### $2\\rightarrow 3$"
   ]
  },
  {
   "cell_type": "code",
   "execution_count": 29,
   "metadata": {},
   "outputs": [
    {
     "data": {
      "text/plain": [
       "Proc([2.0, 3.0], [1.0, 2.0, 3.0])"
      ]
     },
     "execution_count": 29,
     "metadata": {},
     "output_type": "execute_result"
    }
   ],
   "source": [
    "proc_23=Proc([2.0,3.0],[1.0,2.0,3.0])"
   ]
  },
  {
   "cell_type": "code",
   "execution_count": 30,
   "metadata": {},
   "outputs": [
    {
     "data": {
      "text/plain": [
       "1-element Vector{Float64}:\n",
       " 0.0036104694375885763"
      ]
     },
     "execution_count": 30,
     "metadata": {},
     "output_type": "execute_result"
    }
   ],
   "source": [
    "PhaseSpaceIntegral.ps23_byckling((x1,x2,x3,x4)->1,proc_23,100.0;method=\"cuhre\")"
   ]
  },
  {
   "cell_type": "code",
   "execution_count": 31,
   "metadata": {},
   "outputs": [
    {
     "data": {
      "text/plain": [
       "1-element Vector{Float64}:\n",
       " 0.003609716950296247"
      ]
     },
     "execution_count": 31,
     "metadata": {},
     "output_type": "execute_result"
    }
   ],
   "source": [
    "PhaseSpaceIntegral.ps23_byckling((x1,x2,x3,x4)->1,proc_23,100.0;method=\"vegas\")"
   ]
  },
  {
   "cell_type": "code",
   "execution_count": 32,
   "metadata": {},
   "outputs": [
    {
     "data": {
      "text/plain": [
       "1-element Vector{Float64}:\n",
       " 0.0035959060925662713"
      ]
     },
     "execution_count": 32,
     "metadata": {},
     "output_type": "execute_result"
    }
   ],
   "source": [
    "PhaseSpaceIntegral.ps23_byckling((x1,x2,x3,x4)->1,proc_23,100.0;method=\"suave\")"
   ]
  },
  {
   "cell_type": "markdown",
   "metadata": {},
   "source": [
    "### $2→4$"
   ]
  },
  {
   "cell_type": "code",
   "execution_count": 33,
   "metadata": {},
   "outputs": [
    {
     "data": {
      "text/plain": [
       "Proc([2.0, 2.0], [1.0, 2.0, 3.0, 4.0])"
      ]
     },
     "execution_count": 33,
     "metadata": {},
     "output_type": "execute_result"
    }
   ],
   "source": [
    "proc_24=Proc([2.0,2.0],[1.0,2.0,3.0,4.0])"
   ]
  },
  {
   "cell_type": "code",
   "execution_count": 34,
   "metadata": {},
   "outputs": [
    {
     "data": {
      "text/plain": [
       "1-element Vector{Float64}:\n",
       " 0.004331988988301004"
      ]
     },
     "execution_count": 34,
     "metadata": {},
     "output_type": "execute_result"
    }
   ],
   "source": [
    "PhaseSpaceIntegral.ps24_byckling((x1,x2,x3,x4,x5,x6,x7,x8)->1,proc_24,400.0;method=\"cuhre\")"
   ]
  },
  {
   "cell_type": "code",
   "execution_count": 35,
   "metadata": {},
   "outputs": [
    {
     "data": {
      "text/plain": [
       "1-element Vector{Float64}:\n",
       " 0.00435168261903935"
      ]
     },
     "execution_count": 35,
     "metadata": {},
     "output_type": "execute_result"
    }
   ],
   "source": [
    "PhaseSpaceIntegral.ps24_byckling((x1,x2,x3,x4,x5,x6,x7,x8)->1,proc_24,400.0;method=\"vegas\")"
   ]
  },
  {
   "cell_type": "code",
   "execution_count": 36,
   "metadata": {},
   "outputs": [
    {
     "data": {
      "text/plain": [
       "1-element Vector{Float64}:\n",
       " 0.004320519009545322"
      ]
     },
     "execution_count": 36,
     "metadata": {},
     "output_type": "execute_result"
    }
   ],
   "source": [
    "PhaseSpaceIntegral.ps24_byckling((x1,x2,x3,x4,x5,x6,x7,x8)->1,proc_24,400.0;method=\"suave\")"
   ]
  },
  {
   "cell_type": "code",
   "execution_count": null,
   "metadata": {},
   "outputs": [],
   "source": []
  }
 ],
 "metadata": {
  "kernelspec": {
   "display_name": "Julia 1.7.2",
   "language": "julia",
   "name": "julia-1.7"
  },
  "language_info": {
   "file_extension": ".jl",
   "mimetype": "application/julia",
   "name": "julia",
   "version": "1.7.2"
  }
 },
 "nbformat": 4,
 "nbformat_minor": 4
}
